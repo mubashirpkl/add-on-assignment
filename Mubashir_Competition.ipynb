{
  "nbformat": 4,
  "nbformat_minor": 0,
  "metadata": {
    "colab": {
      "provenance": []
    },
    "kernelspec": {
      "name": "python3",
      "display_name": "Python 3"
    },
    "language_info": {
      "name": "python"
    }
  },
  "cells": [
    {
      "cell_type": "code",
      "execution_count": 62,
      "metadata": {
        "id": "l1tWuLZMKkmK",
        "colab": {
          "base_uri": "https://localhost:8080/"
        },
        "outputId": "fc0f4c90-9d71-4344-9e20-6e19940cb872"
      },
      "outputs": [
        {
          "output_type": "stream",
          "name": "stdout",
          "text": [
            "Enter a string value: Mubashir\n",
            "M=1\n",
            "u=1\n",
            "b=1\n",
            "a=1\n",
            "s=1\n",
            "h=1\n",
            "i=1\n",
            "r=1\n"
          ]
        }
      ],
      "source": [
        "'''1. Write a Python function to accept a string value from the user and display the\n",
        "count of each character in that string. Sample input: Enter a string value:\n",
        "assembly Sample output: a=1, s=2, e=1, m=1, b=1, l=1, y=1'''\n",
        "def char_count(string):\n",
        "  char_counts = {}\n",
        "  for char in string:\n",
        "    if char in char_counts:\n",
        "      char_counts[char] += 1\n",
        "    else:\n",
        "      char_counts[char] = 1\n",
        "  for char, count in char_counts.items():\n",
        "    print(f\"{char}={count}\")\n",
        "\n",
        "user_input = input(\"Enter a string value: \")\n",
        "char_count(user_input)\n"
      ]
    },
    {
      "cell_type": "code",
      "source": [
        "'''2. Write a Python function to find the maximum of three numbers Sample input:\n",
        "34,12,7 Sample output: 34 '''\n",
        "def max(a,b,c):\n",
        "  if a>b and a<c:\n",
        "    print(a,\"is the max\")\n",
        "  elif b>a and b>c:\n",
        "    print(b,\"is the max\")\n",
        "  else:\n",
        "    print(c,\"is the max\")\n",
        "a=int(input(\"Enter the first number: \"))\n",
        "b=int(input(\"Enter the second number: \"))\n",
        "c=int(input(\"Enter the third number: \"))\n",
        "max(a,b,c)"
      ],
      "metadata": {
        "id": "LPMuLVcXNIL0",
        "colab": {
          "base_uri": "https://localhost:8080/"
        },
        "outputId": "70b21951-a594-46d5-9a8f-35bf3e6a6adb"
      },
      "execution_count": 63,
      "outputs": [
        {
          "output_type": "stream",
          "name": "stdout",
          "text": [
            "Enter the first number: 32\n",
            "Enter the second number: 42\n",
            "Enter the third number: 52\n",
            "52 is the max\n"
          ]
        }
      ]
    },
    {
      "cell_type": "code",
      "source": [
        "'''3. Write a Python function called exponent(base,exp) that returns an integer\n",
        "value of base raises to the power of exp. Sample input: Enter the base: 2\n",
        "Enter the exponent: 3 Sample output: 8'''\n",
        "\n",
        "def exponent(num1,num2):\n",
        "  print(num1**num2)\n",
        "num1=int(input(\"enter the base: \"))\n",
        "num2=int(input(\"enter the exponent: \"))\n",
        "exponent(num1,num2)\n"
      ],
      "metadata": {
        "id": "Wrq3LB-EWJOm",
        "colab": {
          "base_uri": "https://localhost:8080/"
        },
        "outputId": "94188c9b-022b-4b5a-94fd-b906da7013d0"
      },
      "execution_count": 64,
      "outputs": [
        {
          "output_type": "stream",
          "name": "stdout",
          "text": [
            "enter the base: 2\n",
            "enter the exponent: 3\n",
            "8\n"
          ]
        }
      ]
    },
    {
      "cell_type": "code",
      "source": [
        "'''4.Write a Python function that takes a positive integer and returns the sum of\n",
        "the cube of all the positive integers smaller than the specified number.\n",
        "Sample input: 4 Sample output: 36'''\n",
        "\n",
        "num = int(input('enter the first number:'))\n",
        "cube = num**3\n",
        "print('cube of',num,'is:',cube)"
      ],
      "metadata": {
        "colab": {
          "base_uri": "https://localhost:8080/"
        },
        "id": "OGuTusZLpGFL",
        "outputId": "6491fa13-40f5-4e39-8085-73bfb4f37eae"
      },
      "execution_count": null,
      "outputs": [
        {
          "output_type": "stream",
          "name": "stdout",
          "text": [
            "enter the first number:2\n",
            "cube of 2 is: 8\n"
          ]
        }
      ]
    },
    {
      "cell_type": "code",
      "source": [
        "'''5.Write a Python program which iterates from 1 to 10. For multiples of 2, print\n",
        "“Fizz” instead of the number and for the multiples of 5, print “Buzz”. For\n",
        "numbers which are multiples of both 2 and 5, print “FizzBuzz”. Sample input:\n",
        "numbers from 1 to 10 Sample output: 1 Fizz 3 Fizz Buzz Fizz 7 Fizz 9\n",
        "FizzBuzz '''\n",
        "\n",
        "for i in range(1,10):\n",
        "  if(i%2==0 and i%5==0):\n",
        "    print(\"FizzBuzz\")\n",
        "  elif(i%2 == 0):\n",
        "    print(\"Fizz\")\n",
        "  elif(i%5 == 0):\n",
        "    print(\"Buzz\")\n",
        "  else:\n",
        "    print(i)"
      ],
      "metadata": {
        "colab": {
          "base_uri": "https://localhost:8080/"
        },
        "id": "3Aa37ZVouU7v",
        "outputId": "fb35b0db-a425-487c-98b3-2cac6a70c3f7"
      },
      "execution_count": null,
      "outputs": [
        {
          "output_type": "stream",
          "name": "stdout",
          "text": [
            "1\n",
            "Fizz\n",
            "3\n",
            "Fizz\n",
            "Buzz\n",
            "Fizz\n",
            "7\n",
            "Fizz\n",
            "9\n"
          ]
        }
      ]
    },
    {
      "cell_type": "code",
      "source": [
        "'''6. Write a Python function to find the most frequent item in a list of numbers.\n",
        "Sample input: 2, 3, 4, 2, 5, 2 Sample output: 2'''\n",
        "def commonno(L):\n",
        "  maxcount=0\n",
        "  mostfrequent=0\n",
        "  for i in L:\n",
        "    count=L.count(i)\n",
        "    if count>maxcount:\n",
        "      mostfrequent=i\n",
        "      maxcount=count\n",
        "    elif maxcount==1:\n",
        "      print(\"There is no frequent number!\")\n",
        "      break\n",
        "  return mostfrequent,maxcount\n",
        "\n",
        "L=[]\n",
        "n=int(input(\"Enter the amount of numbers to be inputted into the list: \"))\n",
        "for i in range(0,n):\n",
        "  a=int(input(\"Enter the Number: \"))\n",
        "  L.append(a)\n",
        "b,c=commonno(L)\n",
        "if c!=1:\n",
        "  print(\"The most frequent item is:\",b,\"and its count is:\",c)\n",
        "\n",
        "\n"
      ],
      "metadata": {
        "id": "QB25E-THwUH3",
        "colab": {
          "base_uri": "https://localhost:8080/"
        },
        "outputId": "05a8903e-01c1-4275-bc8b-08da132fc722"
      },
      "execution_count": 65,
      "outputs": [
        {
          "output_type": "stream",
          "name": "stdout",
          "text": [
            "Enter the amount of numbers to be inputted into the list: 3\n",
            "Enter the Number: 1\n",
            "Enter the Number: 2\n",
            "Enter the Number: 2\n",
            "The most frequent item is: 2 and its count is: 2\n"
          ]
        }
      ]
    },
    {
      "cell_type": "code",
      "source": [
        "'''7. Write a Python function to find the sum of squares of the numbers in a list.\n",
        "Sample input: 2,1,3,1 Sample output: 15'''\n",
        "s = 0\n",
        "l1 = [2,1,3,1]\n",
        "for n in l1:\n",
        "  s = s+n*n\n",
        "  print(s)"
      ],
      "metadata": {
        "id": "nGgA6EFCxuBO",
        "colab": {
          "base_uri": "https://localhost:8080/"
        },
        "outputId": "05322622-381f-429b-f4db-06e24217774e"
      },
      "execution_count": 66,
      "outputs": [
        {
          "output_type": "stream",
          "name": "stdout",
          "text": [
            "4\n",
            "5\n",
            "14\n",
            "15\n"
          ]
        }
      ]
    },
    {
      "cell_type": "code",
      "source": [
        "'''8. Write a Python program using for loop that will iterate from 1 to 15. For each\n",
        "iteration, check if the current number is odd or even, and display the message\n",
        "to the screen as odd or even. Sample input: 1….15 Sample output: 1-odd 2-\n",
        "even …. 15-odd'''\n",
        "\n",
        "l1= [1,2,3,4,5,6,7,8,9,10,11,12,13,14,15]\n",
        "even=[]\n",
        "odd=[]\n",
        "while len(l1)>0:\n",
        "  l=l1.pop()\n",
        "  if l%2==0:\n",
        "    even.append(l)\n",
        "  else:\n",
        "      odd.append(l)\n",
        "print(even)\n",
        "print(odd)\n"
      ],
      "metadata": {
        "colab": {
          "base_uri": "https://localhost:8080/"
        },
        "id": "UbZ2_1rZzCb1",
        "outputId": "59211167-0108-4d8f-c5a2-fbbbb02976da"
      },
      "execution_count": 67,
      "outputs": [
        {
          "output_type": "stream",
          "name": "stdout",
          "text": [
            "[14, 12, 10, 8, 6, 4, 2]\n",
            "[15, 13, 11, 9, 7, 5, 3, 1]\n"
          ]
        }
      ]
    },
    {
      "cell_type": "code",
      "source": [
        "'''9. Write a Python function to convert temperatures to and from Celsius\n",
        "Fahrenheit. [Formula: c/5=f-32/9 where c=temperature in Celsius and f=\n",
        "temperature in Fahrenheit.] Sample input: Temperature in Fahrenheit =41\n",
        "Sample output: Temperature in Celsius =5 '''\n",
        "a = int(input('enter the temperature: '))\n",
        "F = (a*9/5)+32\n",
        "print ('Celsious to Farenheit: ',(F))\n",
        "\n"
      ],
      "metadata": {
        "id": "yWCZmmXMzlHu",
        "outputId": "d497b27a-08c8-46eb-c087-c6a4ac4b429a",
        "colab": {
          "base_uri": "https://localhost:8080/"
        }
      },
      "execution_count": 68,
      "outputs": [
        {
          "output_type": "stream",
          "name": "stdout",
          "text": [
            "enter the temperature: 43\n",
            "Celsious to Farenheit:  109.4\n"
          ]
        }
      ]
    },
    {
      "cell_type": "code",
      "source": [
        "'''10.Write a Python function to calculate the factorial of a number (a nonnegative\n",
        "integer). The function accepts the number as an argument. Sample input: 3\n",
        "Sample output: 6'''\n",
        "\n",
        "def factorial(x):\n",
        "  fact=0\n",
        "  if x<0:\n",
        "    print(\"Sorry, factorial does not exist for negative numbers\")\n",
        "  elif num == 0:\n",
        "   print(\"The factorial of 0 is 1\")\n",
        "  else:\n",
        "   for i in range(1,x+1):\n",
        "       fact+=i\n",
        "   print(\"The factorial of\",x,\"is\",fact)\n",
        "factorial(3)\n"
      ],
      "metadata": {
        "id": "mPpNmwgg1J-5",
        "colab": {
          "base_uri": "https://localhost:8080/"
        },
        "outputId": "a6e38bab-6fd3-4803-a93f-adc36ff48d7e"
      },
      "execution_count": null,
      "outputs": [
        {
          "output_type": "stream",
          "name": "stdout",
          "text": [
            "The factorial of 3 is 6\n"
          ]
        }
      ]
    }
  ]
}